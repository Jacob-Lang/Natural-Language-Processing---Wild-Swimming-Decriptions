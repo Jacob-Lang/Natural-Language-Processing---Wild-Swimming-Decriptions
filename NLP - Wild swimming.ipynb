{
 "cells": [
  {
   "cell_type": "markdown",
   "metadata": {},
   "source": [
    "# Natural Language Processing and Clustering - Wild Swimming\n",
    "\n",
    "In this project I will use natural language processing (NLP) and unsupervised machine learning to analyse descriptions of wild swimming locations.   \n",
    "\n",
    "I am a big fan of wild swimming and this website http://www.wildswimming.co.uk/ is a good resource for finding new spots. They list around ~200 wild swiiming locations and have a small text description about each one. I have already scraped the text description data from the website (see *Data Acquisition via Web Scraping.ipynb*) and in this notebook I will:  \n",
    "1. Use NLP techniques (bag of words, stemming, TF-IDF etc.) to convert the text descriptions into vectors.\n",
    "2. Use the cosine similarity to calculate which locations have similar descriptions - this can be used as a reccomendation model based on previous likes. \n",
    "3. Build a search engine for the wild swimming collection. \n",
    "4. Use clustering methods to see if there is any structure within the wild swimming collection. \n",
    "\n",
    "#### As a running example:   \n",
    "One of the best wild swimming spots I've been too is Holne Pool on the River Dart. The wild swimming website has a description here http://www.wildswimming.co.uk/map/holne-pool/ .\n",
    "<img src=\"holne_pool.jpg\" alt=\"drawing\" width=\"400\"/>\n",
    "\n",
    "First I will import all the dependencies:"
   ]
  },
  {
   "cell_type": "code",
   "execution_count": 1,
   "metadata": {},
   "outputs": [],
   "source": [
    "# basics\n",
    "import numpy as np\n",
    "import pandas as pd\n",
    "import matplotlib.pyplot as plt\n",
    "import string\n",
    "\n",
    "# nlp\n",
    "import nltk    \n",
    "from nltk.tokenize import word_tokenize\n",
    "from nltk.stem import PorterStemmer\n",
    "from sklearn.feature_extraction.text import TfidfVectorizer\n",
    "\n",
    "# distance measurement\n",
    "from sklearn.metrics.pairwise import cosine_similarity\n",
    "\n",
    "# clustering\n",
    "from sklearn.cluster import KMeans\n",
    "\n",
    "# visualisation\n",
    "from yellowbrick.text import TSNEVisualizer"
   ]
  },
  {
   "cell_type": "markdown",
   "metadata": {},
   "source": [
    "## Natural language processing\n",
    "\n",
    "In NLP lingo: the collection of wild swimming descriptions is called the *corpus* and each description is called a *document*. To be clear each wild swimming location has one text description.  \n",
    "\n",
    "In order to feed the text data into (most) machine learning algorithms we must first convert it into a vector of numbers. In this project I am using the bag of words approach where each document is considered a collection of words with no regards for the order they appear in. We weight the importance of different words by how often they appear in the document and how often they appear in the corpus as whole. This is the term frequency - inverse document frequency weighting. \n",
    "\n",
    "Let's import the data:"
   ]
  },
  {
   "cell_type": "code",
   "execution_count": 2,
   "metadata": {
    "scrolled": true
   },
   "outputs": [
    {
     "data": {
      "text/html": [
       "<div>\n",
       "<style scoped>\n",
       "    .dataframe tbody tr th:only-of-type {\n",
       "        vertical-align: middle;\n",
       "    }\n",
       "\n",
       "    .dataframe tbody tr th {\n",
       "        vertical-align: top;\n",
       "    }\n",
       "\n",
       "    .dataframe thead th {\n",
       "        text-align: right;\n",
       "    }\n",
       "</style>\n",
       "<table border=\"1\" class=\"dataframe\">\n",
       "  <thead>\n",
       "    <tr style=\"text-align: right;\">\n",
       "      <th></th>\n",
       "      <th>Location Name</th>\n",
       "      <th>Description</th>\n",
       "    </tr>\n",
       "  </thead>\n",
       "  <tbody>\n",
       "    <tr>\n",
       "      <th>0</th>\n",
       "      <td>Cornish Tipi Holidays</td>\n",
       "      <td>A luscious, chalk-green, spring-fed quarry lak...</td>\n",
       "    </tr>\n",
       "    <tr>\n",
       "      <th>1</th>\n",
       "      <td>Colliford Lake and Dozmary</td>\n",
       "      <td>A huge moorland lake, the highest and largest ...</td>\n",
       "    </tr>\n",
       "    <tr>\n",
       "      <th>2</th>\n",
       "      <td>St Nectan’s Kieve</td>\n",
       "      <td>A tall, slender Waterfall or Gorge at the head...</td>\n",
       "    </tr>\n",
       "    <tr>\n",
       "      <th>3</th>\n",
       "      <td>Spitchwick Common</td>\n",
       "      <td>Peaty water, clean from the mountain, this is...</td>\n",
       "    </tr>\n",
       "    <tr>\n",
       "      <th>4</th>\n",
       "      <td>Respryn Bridge</td>\n",
       "      <td>Wooded National Trust estate riverside walk. S...</td>\n",
       "    </tr>\n",
       "  </tbody>\n",
       "</table>\n",
       "</div>"
      ],
      "text/plain": [
       "                  Location Name  \\\n",
       "0        Cornish Tipi Holidays    \n",
       "1   Colliford Lake and Dozmary    \n",
       "2            St Nectan’s Kieve    \n",
       "3            Spitchwick Common    \n",
       "4               Respryn Bridge    \n",
       "\n",
       "                                         Description  \n",
       "0  A luscious, chalk-green, spring-fed quarry lak...  \n",
       "1  A huge moorland lake, the highest and largest ...  \n",
       "2  A tall, slender Waterfall or Gorge at the head...  \n",
       "3   Peaty water, clean from the mountain, this is...  \n",
       "4  Wooded National Trust estate riverside walk. S...  "
      ]
     },
     "execution_count": 2,
     "metadata": {},
     "output_type": "execute_result"
    }
   ],
   "source": [
    "df = pd.read_csv(\"corpus.csv\")\n",
    "df.head()"
   ]
  },
  {
   "cell_type": "markdown",
   "metadata": {},
   "source": [
    "Let's look at the entry for Holne Pool"
   ]
  },
  {
   "cell_type": "code",
   "execution_count": 3,
   "metadata": {},
   "outputs": [
    {
     "name": "stdout",
     "output_type": "stream",
     "text": [
      "Holne Pool is at index 6\n",
      "[' Holne Pool '\n",
      " 'Small Waterfall or Gorge with sunbathing rock and large pool in secluded Holne Woods, close to Holne and its pub.']\n"
     ]
    }
   ],
   "source": [
    "hp_index = df.index[df['Location Name'] == ' Holne Pool '][0]\n",
    "print('Holne Pool is at index', hp_index)\n",
    "print(df.loc[hp_index, :].values)"
   ]
  },
  {
   "cell_type": "markdown",
   "metadata": {},
   "source": [
    "### Tokenization\n",
    "\n",
    "The first step is to turn each desription into a list of its words (also called tokens). We also take this opportunity to set all the text to lower case. "
   ]
  },
  {
   "cell_type": "code",
   "execution_count": 4,
   "metadata": {},
   "outputs": [
    {
     "name": "stdout",
     "output_type": "stream",
     "text": [
      "The text: Small Waterfall or Gorge with sunbathing rock and large pool in secluded Holne Woods, close to Holne and its pub. \n",
      "\n",
      "The tokens: ['small', 'waterfall', 'or', 'gorge', 'with', 'sunbathing', 'rock', 'and', 'large', 'pool', 'in', 'secluded', 'holne', 'woods', ',', 'close', 'to', 'holne', 'and', 'its', 'pub', '.']\n"
     ]
    }
   ],
   "source": [
    "example_text = df.loc[hp_index, 'Description']\n",
    "print('The text:', example_text,'\\n')\n",
    "example_tokens = word_tokenize(example_text.lower())\n",
    "print('The tokens:', example_tokens)"
   ]
  },
  {
   "cell_type": "markdown",
   "metadata": {},
   "source": [
    "### Remove stopwords and punctuation\n",
    "\n",
    "Next we remove all the *stopwords* from the text. These are words like 'and', 'the', 'me'   that don't convey much meaning. We also remove the punctuation. "
   ]
  },
  {
   "cell_type": "code",
   "execution_count": 5,
   "metadata": {},
   "outputs": [
    {
     "name": "stdout",
     "output_type": "stream",
     "text": [
      "Some stopwords are: ['i', 'me', 'my', 'myself', 'we', 'our', 'ours', 'ourselves', 'you', \"you're\"] \n",
      "\n",
      "The tokens with stopwords removed: ['small', 'waterfall', 'gorge', 'sunbathing', 'rock', 'large', 'pool', 'secluded', 'holne', 'woods', ',', 'close', 'holne', 'pub', '.'] \n",
      "\n",
      "The tokens with punctuation removed: ['small', 'waterfall', 'gorge', 'sunbathing', 'rock', 'large', 'pool', 'secluded', 'holne', 'woods', 'close', 'holne', 'pub']\n"
     ]
    }
   ],
   "source": [
    "stopwords = nltk.corpus.stopwords.words('english')   # nltk has a list of stopwords\n",
    "print('Some stopwords are:', stopwords[:10], '\\n')\n",
    "\n",
    "# Remove stopwords\n",
    "example_tokens = [t for t in example_tokens if t not in stopwords]\n",
    "print('The tokens with stopwords removed:', example_tokens, '\\n')\n",
    "\n",
    "# Remove punctuation\n",
    "example_tokens = [t for t in example_tokens if t not in string.punctuation]   # string has a list of punctuation\n",
    "print('The tokens with punctuation removed:', example_tokens)"
   ]
  },
  {
   "cell_type": "markdown",
   "metadata": {},
   "source": [
    "### Stemming\n",
    "\n",
    "Next we stem the words. This is to reduce the amount of tokens and so that words like 'swim', 'swimming', 'swims' which have essentially the same meaning are represented by the same token - in this case 'swim'"
   ]
  },
  {
   "cell_type": "code",
   "execution_count": 6,
   "metadata": {},
   "outputs": [
    {
     "name": "stdout",
     "output_type": "stream",
     "text": [
      "The tokens after stemming: ['small', 'waterfal', 'gorg', 'sunbath', 'rock', 'larg', 'pool', 'seclud', 'holn', 'wood', 'close', 'holn', 'pub']\n"
     ]
    }
   ],
   "source": [
    "# Stem words\n",
    "example_tokens = [PorterStemmer().stem(t) for t in example_tokens]   # string has a list of punctuation\n",
    "print('The tokens after stemming:', example_tokens)"
   ]
  },
  {
   "cell_type": "markdown",
   "metadata": {},
   "source": [
    "Notice the effect on the word 'sunbathing' which becomes 'sunbath'. Some of the tokens now look a bit weird but they can now represent a set of words. Another option is to *lemmatize* the tokens instead. This is a similar but slightly different process and here I opt for the simpler stemming.\n",
    "\n",
    "### TF-IDF\n",
    "\n",
    "Now we can convert the list of tokens into a vector of numbers. This requires training on the entire corpus as we need to know all the possible tokens. If there are N different tokens in the corpus each document is turned into a N-dimensional vector. The element $x_n$ corresponding to the $n$-th token is given by\n",
    "\n",
    "$$\n",
    "x_n = \\text{Term Frequency} \\times \\text{Inverse Document Frequency} \n",
    "$$\n",
    "\n",
    "Where Term Frequency is the amount of times the token appears in the document divided by the total number of tokens in the document. And Inverse Document Frequency is the log of the number of total documents divided by the number of documents containing that term. \n",
    "\n",
    "TF-IDF ensures that length of each document doesn't effect the representation and that very common words have reduced importance. \n",
    "\n",
    "I will use sklearn's TfidfVectorizer:"
   ]
  },
  {
   "cell_type": "code",
   "execution_count": 7,
   "metadata": {},
   "outputs": [],
   "source": [
    "# a list of all the descriptions\n",
    "corpus = df.loc[:,'Description'].values"
   ]
  },
  {
   "cell_type": "code",
   "execution_count": 8,
   "metadata": {},
   "outputs": [
    {
     "name": "stdout",
     "output_type": "stream",
     "text": [
      "The tfidf_matrix has shape: (199, 280)\n"
     ]
    }
   ],
   "source": [
    "# define a custom tokenization step\n",
    "# this does the same as the example run thorugh above\n",
    "def tokenizer(text):\n",
    "    tokens = word_tokenize(text.lower())                         # tokenize\n",
    "    tokens = [t for t in tokens if t not in string.punctuation]  # remove punctuation\n",
    "    tokens = [t for t in tokens if t not in stopwords]           # remove stopwords\n",
    "    tokens = [PorterStemmer().stem(t) for t in tokens]                    # stem\n",
    "    return tokens\n",
    "\n",
    "# define vectorizer object\n",
    "vectorizer = TfidfVectorizer(tokenizer=tokenizer, ngram_range = (1,1), min_df = 0.02, max_df = 0.5)\n",
    "# fit it on the corpus then trainsform the corpus to tfidf_matrix\n",
    "tfidf_matrix = vectorizer.fit_transform(corpus)\n",
    "\n",
    "print('The tfidf_matrix has shape:',tfidf_matrix.shape)"
   ]
  },
  {
   "cell_type": "markdown",
   "metadata": {},
   "source": [
    "The rows of the TF-IDF matrix are the vector representations of each document. The vectors are high dimensional but we can see which features are most important for each document. E.g. for Holne Pool"
   ]
  },
  {
   "cell_type": "code",
   "execution_count": 9,
   "metadata": {
    "scrolled": true
   },
   "outputs": [
    {
     "data": {
      "text/html": [
       "<div>\n",
       "<style scoped>\n",
       "    .dataframe tbody tr th:only-of-type {\n",
       "        vertical-align: middle;\n",
       "    }\n",
       "\n",
       "    .dataframe tbody tr th {\n",
       "        vertical-align: top;\n",
       "    }\n",
       "\n",
       "    .dataframe thead th {\n",
       "        text-align: right;\n",
       "    }\n",
       "</style>\n",
       "<table border=\"1\" class=\"dataframe\">\n",
       "  <thead>\n",
       "    <tr style=\"text-align: right;\">\n",
       "      <th></th>\n",
       "      <th>feature</th>\n",
       "      <th>tfidf</th>\n",
       "    </tr>\n",
       "  </thead>\n",
       "  <tbody>\n",
       "    <tr>\n",
       "      <th>0</th>\n",
       "      <td>close</td>\n",
       "      <td>0.400982</td>\n",
       "    </tr>\n",
       "    <tr>\n",
       "      <th>1</th>\n",
       "      <td>seclud</td>\n",
       "      <td>0.400982</td>\n",
       "    </tr>\n",
       "    <tr>\n",
       "      <th>2</th>\n",
       "      <td>pub</td>\n",
       "      <td>0.376189</td>\n",
       "    </tr>\n",
       "    <tr>\n",
       "      <th>3</th>\n",
       "      <td>wood</td>\n",
       "      <td>0.325153</td>\n",
       "    </tr>\n",
       "    <tr>\n",
       "      <th>4</th>\n",
       "      <td>larg</td>\n",
       "      <td>0.294466</td>\n",
       "    </tr>\n",
       "  </tbody>\n",
       "</table>\n",
       "</div>"
      ],
      "text/plain": [
       "  feature     tfidf\n",
       "0   close  0.400982\n",
       "1  seclud  0.400982\n",
       "2     pub  0.376189\n",
       "3    wood  0.325153\n",
       "4    larg  0.294466"
      ]
     },
     "execution_count": 9,
     "metadata": {},
     "output_type": "execute_result"
    }
   ],
   "source": [
    "terms = vectorizer.get_feature_names()\n",
    "hp_row = np.squeeze(tfidf_matrix[hp_index].toarray())\n",
    "topn_ids = np.argsort(hp_row)[::-1][:5]\n",
    "top_feats = [(terms[i], hp_row[i]) for i in topn_ids]\n",
    "topfeats_df = pd.DataFrame(top_feats)\n",
    "topfeats_df.columns = ['feature', 'tfidf']\n",
    "topfeats_df"
   ]
  },
  {
   "cell_type": "markdown",
   "metadata": {},
   "source": [
    "## Cosine similarity\n",
    "\n",
    "Now the documents are in a vector form we can ask: which documents are *similar*? Similar here can could be defined by the Euclidean distance between two document vectors... but it turns out for text a better metric is the *cosine similarity*.\n",
    "\n",
    "$$\n",
    "\\text{Cosine Similarity} = \\frac{\\textbf{A}\\cdot\\textbf{B}}{|\\textbf{A}||\\textbf{B}|}\n",
    "$$\n",
    "\n",
    "We can define a distance matrix containing the cosine similarity between all the documents in the corpus:"
   ]
  },
  {
   "cell_type": "code",
   "execution_count": 10,
   "metadata": {},
   "outputs": [],
   "source": [
    "distance_matrix = cosine_similarity(tfidf_matrix, tfidf_matrix, dense_output=True)\n",
    "# All diag values = 1 so we set to zero so that we can search for largest similaries\n",
    "distance_matrix = distance_matrix - np.diag(np.diag(distance_matrix))   "
   ]
  },
  {
   "cell_type": "markdown",
   "metadata": {},
   "source": [
    "Then lets ask: Which swimming locations are most similar to Holne Pool? "
   ]
  },
  {
   "cell_type": "code",
   "execution_count": 11,
   "metadata": {},
   "outputs": [
    {
     "name": "stdout",
     "output_type": "stream",
     "text": [
      "1 . Cosine Similarity: 0.511378632002939\n",
      "[' Mel Tor Pools ' 'Small Waterfall or Gorge pool'] \n",
      "\n",
      "2 . Cosine Similarity: 0.373966658906794\n",
      "[' Gill Force, Eskdale '\n",
      " 'A small rocky gorge and pool on the Esk, close to the village of boot with its campsite and pub. Near the little riverside church. Shady. Deep section with rocks to jump from.'] \n",
      "\n",
      "3 . Cosine Similarity: 0.36395127767366664\n",
      "[' Cullever Steps '\n",
      " 'Small plunge pool in narrow rocky valley below Scarey Tor. Some grass for picnics and large rocks for sunbathing. Small Waterfall or Gorge. 1.5m deep. 15m long.'] \n",
      "\n",
      "As a reminder:\n",
      "[' Holne Pool '\n",
      " 'Small Waterfall or Gorge with sunbathing rock and large pool in secluded Holne Woods, close to Holne and its pub.']\n"
     ]
    }
   ],
   "source": [
    "hp_similarity_order = np.argsort(-distance_matrix[hp_index,:]) # minus sign for descending sort order.\n",
    "for n in range(3):\n",
    "    match_index = hp_similarity_order[n]\n",
    "    print(n+1, '. Cosine Similarity:', distance_matrix[hp_index, match_index])\n",
    "    print(df.loc[match_index, :].values, '\\n')\n",
    "    \n",
    "print('As a reminder:')\n",
    "print(df.loc[hp_index, :].values)"
   ]
  },
  {
   "cell_type": "markdown",
   "metadata": {},
   "source": [
    "These show a good similariy to Holne Pool. The key words linking the locations seem to be Small, Waterfall, Pool, Deep. \n",
    "\n",
    "In fact, it turns out the Mel Tor Pools location is only a few hundred meters up the same river from Holne Pool! The descriptions hold latent information about their location due to the language used to describe them. E.g. you only find Lochs in Scotland!"
   ]
  },
  {
   "cell_type": "markdown",
   "metadata": {},
   "source": [
    "## A wild swimming search engine\n",
    "\n",
    "Instead of working out the most similar documents to an existing document we can find the similarity of all documents in the corpus to a user given search query. This is how search engines work. I can define the search engine as a function:"
   ]
  },
  {
   "cell_type": "code",
   "execution_count": 12,
   "metadata": {},
   "outputs": [],
   "source": [
    "# define as function.\n",
    "def wild_swim_search(query):\n",
    "    # transform search query into vector using the TFIDF vectoriser trained on the corpus\n",
    "    query_vec = vectorizer.transform([query])  \n",
    "    \n",
    "    # calculate cosine distance to all documents in the corpus\n",
    "    search_distance_matrix = cosine_similarity(query_vec, tfidf_matrix, dense_output=True)[0]\n",
    "    \n",
    "    # sort the documents by cosine distance from the search query\n",
    "    search_results = np.argsort(-search_distance_matrix)     # minus sign so that we get most similar first. (i.e. argsort descending)\n",
    "    \n",
    "    # print 5 closest documents\n",
    "    for n in range(5):\n",
    "        result_id = search_results[n]\n",
    "        print(df.loc[result_id, :].values)\n",
    "        print('Cosine similarity of', search_distance_matrix[result_id])\n",
    "        print()"
   ]
  },
  {
   "cell_type": "markdown",
   "metadata": {},
   "source": [
    "And here are some examples:"
   ]
  },
  {
   "cell_type": "code",
   "execution_count": 13,
   "metadata": {},
   "outputs": [
    {
     "name": "stdout",
     "output_type": "stream",
     "text": [
      "[' Frensham Great Pond '\n",
      " 'Huge sandy lake with small buoyed-off swimming area shelving to 1.5m deep and 50m wide. Forest and open heathland. Parking, cafﾎ and small museum, Popular with young families.']\n",
      "Cosine similarity of 0.3080730211730229\n",
      "\n",
      "[' Coastal – Tanners Lane, Lymington '\n",
      " 'Great remote location for pool swimming at mid tide. Can park right on beach (but watch the tide!) with long stretch of beach going east. Tucked behind in the woods is a massive lake and although very enticing for swimming, we found the pond weeds a bit hard to contend with!']\n",
      "Cosine similarity of 0.2914382239661643\n",
      "\n",
      "[' Dulsie Bridge '\n",
      " 'Stunning gorge with rapids above and deep pools, Waterfall or Gorge and sandy cove below.']\n",
      "Cosine similarity of 0.29060072508931595\n",
      "\n",
      "[' Backney Common '\n",
      " 'Ancient but little known common in tight loop of Wye providing large shingle and sandy beach shelving to large deep pool. Undisputed access. Large swan population, with droppings.']\n",
      "Cosine similarity of 0.2823079797507736\n",
      "\n",
      "[' Tenaya Lake, Yosemite National Park '\n",
      " 'Surrounded by granite domes and lodgepole pine forests, Tenaya Lake is the crown jewel of Yosemite National Park’s high country. Set at 8,150 feet (2.484 m), the silver blue lake is a beautiful sight to behold right after you pass Olmsted Point. Crossing the lake is roughly a mile and wetsuits are recommended because of the temperature. The lake is deep and visibility down to roughly 50 feet. A few tree stumps under water surface, invisible from above. Skirt the edges for maximum safety. No lifeguards on duty. Wetsuit crossing described here: http://frogmom.com/2009/07/across-tenaya-lake-open-water-swimming-at-8150-feet/']\n",
      "Cosine similarity of 0.2802484729151426\n",
      "\n"
     ]
    }
   ],
   "source": [
    "wild_swim_search('Big lake with sandy beach')"
   ]
  },
  {
   "cell_type": "code",
   "execution_count": 14,
   "metadata": {},
   "outputs": [
    {
     "name": "stdout",
     "output_type": "stream",
     "text": [
      "[' Thames dip, near Grafton Lock '\n",
      " 'This is a quiet stretch of the Thames between Lechlade and Radcot.']\n",
      "Cosine similarity of 0.7470697088859741\n",
      "\n",
      "[' Lamas, River Bure '\n",
      " 'A quiet, rural idyllic stretch of the Bure river, flowing past gardens, fields and a church. Deep and clear running. Banks can be rather wet and marshy.']\n",
      "Cosine similarity of 0.4107379109035667\n",
      "\n",
      "[' River Teme, Leintwardine '\n",
      " 'Nice quiet spot in the summer at the joining of the River Teme and River Clun for a swim or a paddle. The River Teme lazily winds it’s way towards the site through a lovely green meadow and is mainly warm, clear and shallow. The River Clun runs towards the site through a confluence and (I’m assuming) was used as the old mill stream.']\n",
      "Cosine similarity of 0.3543751413603663\n",
      "\n",
      "[' Dedham Vale '\n",
      " 'A beautiful open historic vale, site of Flatford Mill, where people row on boats and occasionally swim. Fen Bridge is a quiet spot with 2m deep river pools and shelving access. Some weeds to watch for. Grade C due to fertiliser content (nitrates) but safe enough to swim.']\n",
      "Cosine similarity of 0.3499114147668627\n",
      "\n",
      "[' Colemere and Ellesmere '\n",
      " 'An area of nine glacial meres. Colemere is remote, beautiful and quiet with a shore path and small sailing club. Sometimes blue’green algae is reported. You are not officially allowed to swim here. Be discreet.']\n",
      "Cosine similarity of 0.31032258550551983\n",
      "\n"
     ]
    }
   ],
   "source": [
    "wild_swim_search('Quiet river')"
   ]
  },
  {
   "cell_type": "code",
   "execution_count": 15,
   "metadata": {},
   "outputs": [
    {
     "name": "stdout",
     "output_type": "stream",
     "text": [
      "[' Shilley Pool '\n",
      " 'Small, dammed plunge pool in brook at edge of moor. Shallow (1m) but set beneath flat rock rapids with nice picnicking grass alongside. Paddling for children. Sheltered and balmy in summer. Park in South Zeal.']\n",
      "Cosine similarity of 0.2717517983908033\n",
      "\n",
      "[' Chilbolton Cow Common '\n",
      " 'Ancient rural common bounded by two arms of the Test. Two shallow pools by footbridge, white gravel, very clear and clean. Popular with children. Cold, about 15ﾼC all year round.']\n",
      "Cosine similarity of 0.2666077775809246\n",
      "\n",
      "[' Cuckmere Meanders '\n",
      " 'Wide, shallow, moderately warm oxbow lakes cut off from the main Cuckmere stream. Grass banks and chalky beds. Non tidal and no current. Safe and deep enough for swimming in some places. Stunning setting with option of sea swimming too.']\n",
      "Cosine similarity of 0.24856660007698692\n",
      "\n",
      "[' Hope House Open Water Swim '\n",
      " 'Hope House Children’s Hospices are organising their first sponsored open water swim to help raise funds for the hospices. The swim will take place at the glorious fresh water Manley Mere near Frodsham in Cheshire on Sunday, July 14th 2013.']\n",
      "Cosine similarity of 0.2467085565760298\n",
      "\n",
      "[' Tarr Steps, Barle '\n",
      " 'Ancient stone ‘clapper’ bridge, very popular with children for paddling. Deeper pool of Barle about 20 mins upstream through woods. Good food at pub.']\n",
      "Cosine similarity of 0.241758403737068\n",
      "\n"
     ]
    }
   ],
   "source": [
    "wild_swim_search('Shallow and safe for children')"
   ]
  },
  {
   "cell_type": "markdown",
   "metadata": {},
   "source": [
    "This works very well! \n",
    "\n",
    "## Clustering\n",
    "\n",
    "Finally, I want to see in there is any structure in the vector space of wild swimming locations. For these I can use clustering - an unsupervised machine learning technique. First lets visualise the space of wild swim descipritions using TSNE to reduce the high dimensional vector space to just 2D. "
   ]
  },
  {
   "cell_type": "code",
   "execution_count": 16,
   "metadata": {},
   "outputs": [
    {
     "name": "stderr",
     "output_type": "stream",
     "text": [
      "'c' argument looks like a single numeric RGB or RGBA sequence, which should be avoided as value-mapping will have precedence in case its length matches with 'x' & 'y'.  Please use a 2-D array with a single row if you really want to specify the same RGB or RGBA value for all points.\n"
     ]
    },
    {
     "data": {
      "image/png": "[encoded data removed]",
      "text/plain": [
       "<Figure size 432x288 with 1 Axes>"
      ]
     },
     "metadata": {},
     "output_type": "display_data"
    },
    {
     "data": {
      "text/plain": [
       "<matplotlib.axes._subplots.AxesSubplot at 0x13d7c116f60>"
      ]
     },
     "execution_count": 16,
     "metadata": {},
     "output_type": "execute_result"
    }
   ],
   "source": [
    "tsne = TSNEVisualizer()\n",
    "tsne.fit(tfidf_matrix)\n",
    "tsne.show()"
   ]
  },
  {
   "cell_type": "markdown",
   "metadata": {},
   "source": [
    "Here we only see one large cluster. This is to be expected as all of the desciptions are about the same thing: wild swimming. All of the documents are quite similar to each other. However, let's see if a clustering algorithm picks out any underlying structure:"
   ]
  },
  {
   "cell_type": "code",
   "execution_count": 17,
   "metadata": {},
   "outputs": [
    {
     "name": "stderr",
     "output_type": "stream",
     "text": [
      "'c' argument looks like a single numeric RGB or RGBA sequence, which should be avoided as value-mapping will have precedence in case its length matches with 'x' & 'y'.  Please use a 2-D array with a single row if you really want to specify the same RGB or RGBA value for all points.\n",
      "'c' argument looks like a single numeric RGB or RGBA sequence, which should be avoided as value-mapping will have precedence in case its length matches with 'x' & 'y'.  Please use a 2-D array with a single row if you really want to specify the same RGB or RGBA value for all points.\n"
     ]
    },
    {
     "data": {
      "image/png": "[encoded data removed]",
      "text/plain": [
       "<Figure size 432x288 with 1 Axes>"
      ]
     },
     "metadata": {},
     "output_type": "display_data"
    },
    {
     "data": {
      "text/plain": [
       "<matplotlib.axes._subplots.AxesSubplot at 0x13d7e20dac8>"
      ]
     },
     "execution_count": 17,
     "metadata": {},
     "output_type": "execute_result"
    }
   ],
   "source": [
    "# K-means algorithm \n",
    "\n",
    "# Fit \n",
    "kmeans = KMeans(n_clusters=2).fit(tfidf_matrix)\n",
    "\n",
    "#visualise\n",
    "tsne_km = TSNEVisualizer()\n",
    "tsne_km.fit(tfidf_matrix, [\"c{}\".format(c) for c in kmeans.labels_])\n",
    "tsne_km.show()"
   ]
  },
  {
   "cell_type": "markdown",
   "metadata": {},
   "source": [
    "The clustering algorithm finds a small cluster in the data: We can inspect the elements of each class to see identify what defines them.(This could also be done by training a classifier on the newly labelled classes to find e.g. the most important features that define each class.)"
   ]
  },
  {
   "cell_type": "code",
   "execution_count": 18,
   "metadata": {
    "scrolled": false
   },
   "outputs": [
    {
     "name": "stdout",
     "output_type": "stream",
     "text": [
      "The first cluster contains: \n",
      "\n",
      "[' St Nectan’s Kieve '\n",
      " 'A tall, slender Waterfall or Gorge at the head of a wild woody dingle. It falls into a high basin, flows through a circular hole and drops into a small plunge pool, 1.5m deep, 5m across. Prayer flags and shrine room. Small tea room in hermitage above. Many steps. Entrance ‘3.']\n",
      "[' Holne Pool '\n",
      " 'Small Waterfall or Gorge with sunbathing rock and large pool in secluded Holne Woods, close to Holne and its pub.']\n",
      "[' Chagford Lido, Teign '\n",
      " 'River-fed swimming pool with cafﾎ set in fields on outskirts of tiny Chagford. Largest outdoor pool in Devon. Upstream you can swim at shady weir pool behind town.']\n",
      "[' Salmon Leaps, Teign '\n",
      " 'Long river pool in woods beneath Castle Drogo. About 1.5m deep. Weir and footbridge. The Teign cascades into three Victorian square stone plunge pools, each about 1m deep and smooth lined. Great for a pummelling massage!']\n",
      "[' Mel Tor Pools ' 'Small Waterfall or Gorge pool']\n",
      "\n",
      " The second cluster contains: \n",
      "\n",
      "[' Cornish Tipi Holidays '\n",
      " 'A luscious, chalk-green, spring-fed quarry lake on private land, part of Cornish Tipi Holidays. Wooded cliffs and banks. Very deep and 200m long. Canoes, islands, fishing, landing bay. You need to be staying to swim: tipis from ﾣ275 for a mini break.']\n",
      "[' Colliford Lake and Dozmary '\n",
      " 'A huge moorland lake, the highest and largest in Cornwall. Open access on the west side with chalky, shelving beaches. Dippers, wagtails and sand martins. No trees.']\n",
      "[' Spitchwick Common '\n",
      " ' Peaty water, clean from the mountain, this is the most popular and accessible Dart swimming location, especially in summer. Also known as Deeper Marsh, it has been a bathing place for generations. Grassy flats lead to rocky river shore, deeper on far side with high cliff behind.']\n",
      "[' Respryn Bridge '\n",
      " 'Wooded National Trust estate riverside walk. Some sections 1.5’2m deep. Swim against the current. Wooden bankside deckings (for fishing). Beachy shingle area by footbridge. Popular at weekends.']\n",
      "[' Bodmin Parkway '\n",
      " 'Still in the Lanhydrock Estate, this swim is off the original driveway to the main house from behind the station. Very woody and secluded, like a tropical jungle. Shallow rapids on inside bend, deep on outer bank for a plunge and swim against the current.']\n"
     ]
    }
   ],
   "source": [
    "# get class predicitons from kmeans\n",
    "cluster_labels = kmeans.predict(tfidf_matrix)  # these are 0 or 1 depending on assigned class\n",
    "\n",
    "# number of instances to observe\n",
    "N_instances = 5\n",
    "\n",
    "# first class\n",
    "class_0_indices = np.where(cluster_labels == 0)[0]\n",
    "print('The first cluster contains: \\n')\n",
    "for index in class_0_indices[:N_instances]:\n",
    "    print(df.loc[index,:].values)\n",
    "\n",
    "# second class\n",
    "class_1_indices = np.where(cluster_labels == 1)[0]\n",
    "print('\\n The second cluster contains: \\n')\n",
    "for index in class_1_indices[:N_instances]:\n",
    "    print(df.loc[index,:].values)"
   ]
  },
  {
   "cell_type": "markdown",
   "metadata": {},
   "source": [
    "So we can see that the clustering algorithm has split the wild swimming locations into those that have waterfalls and those that don't!\n",
    "\n",
    "I experimented with other clustering algorithms (hierarchical and gaussian mixtures) and with fine tuning the hyperparameters but really this kmeans clustering gave the most sensible results. I think trying to find more clusters is hard as the texts are so similar.\n",
    "\n",
    "More advanced NLP techniques for this dataset could involve redoing the bag of words approach but with n-grams higher than n=1. I.e. tokenising all word pairs (n=2). Or using a word2vec embedding. \n",
    "\n",
    "\n",
    "## Conclusion\n",
    "\n",
    "In this notebook I have used NLP to analyse a corpus of wild swimming text description. I have used the bag-of-words approach to vectorise each text description and analysed the cosine similarity between documents. I built a search engine for the wild swimming corpus and used clustering to find some structure in the corpus."
   ]
  },
  {
   "cell_type": "code",
   "execution_count": null,
   "metadata": {},
   "outputs": [],
   "source": []
  }
 ],
 "metadata": {
  "kernelspec": {
   "display_name": "Python 3",
   "language": "python",
   "name": "python3"
  },
  "language_info": {
   "codemirror_mode": {
    "name": "ipython",
    "version": 3
   },
   "file_extension": ".py",
   "mimetype": "text/x-python",
   "name": "python",
   "nbconvert_exporter": "python",
   "pygments_lexer": "ipython3",
   "version": "3.6.8"
  }
 },
 "nbformat": 4,
 "nbformat_minor": 2
}
